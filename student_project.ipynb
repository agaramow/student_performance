{
 "cells": [
  {
   "cell_type": "markdown",
   "metadata": {},
   "source": [
    "## <center> <font size=\"5\"> Using Data Mining to Predict Secondary School Student Performance by P. Cortez and A. Silva, 2008 </font> </center> <br> <font size=\"4\"><center> Computational Statistics Course 2020 - Student Project by Adelina Garamow</center></font> "
   ]
  },
  {
   "cell_type": "markdown",
   "metadata": {},
   "source": [
    "<a href=\"https://pdfs.semanticscholar.org/61d4/68d5254730bbecf822c6b60d7d6595d9889c.pdf?_ga=2.55301101.779715794.1594107255-2097271089.1594107255\">P. Cortez and A. M. Gonçalves Silva. \"Using data mining to predict secondary school student performance\", 2008.</a>"
   ]
  },
  {
   "cell_type": "markdown",
   "metadata": {},
   "source": [
    "## <center> *Abstract*\n",
    "\n",
    "\n",
    "<center>"
   ]
  },
  {
   "cell_type": "markdown",
   "metadata": {},
   "source": [
    "***\n",
    "## *Initial Settings*\n",
    "***"
   ]
  },
  {
   "cell_type": "markdown",
   "metadata": {},
   "source": [
    "<a id=\"outline\"></a>\n",
    "\n",
    "***\n",
    "## *Outline*\n",
    "***\n",
    "\n",
    "- [Introduction](#introduction)"
   ]
  },
  {
   "cell_type": "markdown",
   "metadata": {},
   "source": [
    "***\n",
    "## *Introduction* <a class=\"anchor\" id=\"introduction\"></a>\n",
    "***"
   ]
  },
  {
   "cell_type": "markdown",
   "metadata": {},
   "source": [
    "The authors of the presented paper show how Data Mining (DM) methods can be applied in the educational sector. Their motivation is based on two main developments: the low educational performance of Portuguese students at the European level and the increased use of DM methods in social science. They argue that DM methods may provide an understanding of the underlying dynamics in the education sector due to their potential prediction power. To demonstrate this, the authors use four DM techniques: Decision Trees, Random Forest, Neural Network and Support Vector Machines to predict the performance of Portugese students. The supervised learning of the methods use data which combines administrative and self reported data on achieved scores in the two core subjects, Maths and Portuguese and socio-economic background. They show that although the prediction of the students' performance is dominated by the past performance, there are other relevant features, e.g., number of absences, parent’s job and education, alcohol consumption, which help to explain students' performance. Finally, they conclude that more efficient prediction tools can be developed to aid the educational school resource management.\n",
    "\n",
    "Following the argument of Cortez and Silva (2008), this notebook aims to compare the prediction performance of three tree based methods from our class: Bagging, Random Forest and Boosting versus the well known OLS/ Logistic regression. After evaluating and comparing the results from the different methods with each other and the results of Cortez and Silva (2008), I will assess their relative performance following the three measures: (1) prediction accuracy measured by the test MSE, (2) variable importance, and (3) interpretability. To check the robustness of the results, I first, model the achieved scores as a binary, five-level classification (European convention) and a 20-point grading scale response."
   ]
  },
  {
   "cell_type": "markdown",
   "metadata": {},
   "source": [
    "***\n",
    "## *Data*\n",
    "***"
   ]
  },
  {
   "cell_type": "code",
   "execution_count": 7,
   "metadata": {},
   "outputs": [
    {
     "name": "stderr",
     "output_type": "stream",
     "text": [
      "Warning message in file(file, \"rt\"):\n",
      "“cannot open file '/Users/adelinagaramowa/uni/20_SS_UniBonn/compstats/student_performance/original_data/student.csv': No such file or directory”"
     ]
    },
    {
     "ename": "ERROR",
     "evalue": "Error in file(file, \"rt\"): cannot open the connection\n",
     "output_type": "error",
     "traceback": [
      "Error in file(file, \"rt\"): cannot open the connection\nTraceback:\n",
      "1. read.table(\"/Users/adelinagaramowa/uni/20_SS_UniBonn/compstats/student_performance/original_data/student.csv\", \n .     header = TRUE, sep = \",\", row.names = \"id\")",
      "2. file(file, \"rt\")"
     ]
    }
   ],
   "source": [
    "student = read.table(\"/Users/adelinagaramowa/uni/20_SS_UniBonn/compstats/student_performance/original_data/student.csv\",\n",
    "                     header=TRUE, sep=\",\", row.names=\"id\")"
   ]
  },
  {
   "cell_type": "code",
   "execution_count": 5,
   "metadata": {},
   "outputs": [
    {
     "data": {
      "text/html": [
       "'/Users/adelinagaramowa/uni/20_SS_UniBonn/compstats/student_performance'"
      ],
      "text/latex": [
       "'/Users/adelinagaramowa/uni/20\\_SS\\_UniBonn/compstats/student\\_performance'"
      ],
      "text/markdown": [
       "'/Users/adelinagaramowa/uni/20_SS_UniBonn/compstats/student_performance'"
      ],
      "text/plain": [
       "[1] \"/Users/adelinagaramowa/uni/20_SS_UniBonn/compstats/student_performance\""
      ]
     },
     "metadata": {},
     "output_type": "display_data"
    }
   ],
   "source": [
    "getwd()"
   ]
  },
  {
   "cell_type": "code",
   "execution_count": null,
   "metadata": {},
   "outputs": [],
   "source": []
  }
 ],
 "metadata": {
  "kernelspec": {
   "display_name": "R",
   "language": "R",
   "name": "ir"
  },
  "language_info": {
   "codemirror_mode": "r",
   "file_extension": ".r",
   "mimetype": "text/x-r-source",
   "name": "R",
   "pygments_lexer": "r",
   "version": "3.6.3"
  }
 },
 "nbformat": 4,
 "nbformat_minor": 4
}
